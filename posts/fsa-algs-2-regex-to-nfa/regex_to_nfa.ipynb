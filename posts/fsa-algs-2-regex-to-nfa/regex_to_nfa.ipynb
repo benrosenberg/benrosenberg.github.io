{
 "cells": [
  {
   "cell_type": "markdown",
   "metadata": {},
   "source": [
    "# FSA Algorithms, Part 2: Regex to NFA conversion\n",
    "\n",
    "The next step in this series is the conversion from the regex AST we created in the previous part to an NFA, the representation for which we'll define here.\n",
    "\n",
    "The structure of this part will be as follows:\n",
    "\n",
    " - NFA class\n",
    " - Conversion methodology\n",
    " - Implementation of conversion methodology\n"
   ]
  },
  {
   "cell_type": "markdown",
   "metadata": {},
   "source": [
    "## NFA Class\n",
    "\n",
    "An NFA is defined as a 5-tuple $(S, \\delta, \\Sigma, s, F)$, where $S$ is the set of states, $\\Sigma$ is the alphabet (set of characters or letters), $\\delta$ is the transition function $\\delta : S \\times \\Sigma \\to S$, $s$ is the start state, and $F \\subseteq S$ is the set of final states. \n",
    "\n",
    "Here's a simple class for an NFA:"
   ]
  },
  {
   "cell_type": "code",
   "execution_count": null,
   "metadata": {},
   "outputs": [],
   "source": [
    "class NFA:\n",
    "    def __init__(self, states, delta, sigma, start, finals):\n",
    "        self.states = set(states)\n",
    "        self.delta = set(delta)\n",
    "        self.sigma = set(sigma)\n",
    "        self.start = start\n",
    "        self.finals = set(finals)"
   ]
  },
  {
   "cell_type": "markdown",
   "metadata": {},
   "source": [
    "And here are some nice quality of life additions to the class. We want to be able to print these out nicely, and to see what they look like (we use Graphviz here for that purpose):"
   ]
  },
  {
   "cell_type": "code",
   "execution_count": null,
   "metadata": {},
   "outputs": [],
   "source": [
    "    def __str__(self):\n",
    "        delta_string = ''\n",
    "        # compress delta by from/to states\n",
    "        delta_compressed = {}\n",
    "        for from_state, to_state, on_char in sorted(list(self.delta)):\n",
    "            if (from_state, to_state) in delta_compressed:\n",
    "                delta_compressed[from_state, to_state].add(on_char)\n",
    "            else:\n",
    "                delta_compressed[from_state, to_state] = {on_char}\n",
    "        for (from_state, to_state), on_char_set in delta_compressed.items():\n",
    "            delta_string += '\\t\\t{} -> {} : {}\\n'.format(from_state, to_state, on_char_set)\n",
    "        out = (\n",
    "            f'{self.type}:\\n'\n",
    "            + '\\tStates: {}\\n'.format(self.states)\n",
    "            + '\\tSigma: {}\\n'.format(self.sigma)\n",
    "            + '\\tStart: {}\\n'.format(self.start)\n",
    "            + '\\tFinals: {}\\n'.format(self.finals)\n",
    "            + '\\tStates: {}\\n'.format(self.states)\n",
    "            + '\\tDelta:\\n' + delta_string \n",
    "        )\n",
    "        return out\n",
    "    \n",
    "    def __repr__(self):\n",
    "        return str(self)\n",
    "\n",
    "    def show(self, render=True, filename=None, view=False):\n",
    "        assert render or view, 'Please choose to either render as a PDF or view directly.'\n",
    "        if filename is None:\n",
    "            filename = self.type\n",
    "        dot = graphviz.Digraph()\n",
    "        dot.attr(rankdir='LR', size='8,5', constraint='false')\n",
    "        dot.attr(label=r'\\n\\n{}-state {}'.format(len(self.states), self.type))\n",
    "        \n",
    "        for state in self.states:\n",
    "            if state in self.finals:\n",
    "                dot.attr('node', shape='doublecircle')\n",
    "                dot.node(state)\n",
    "            else:\n",
    "                dot.attr('node', shape='circle')\n",
    "                dot.node(state)\n",
    "        dot.attr('node', shape='none', label='')\n",
    "        dot.edge('', self.start)\n",
    "\n",
    "        # compress delta by from/to states\n",
    "        delta_compressed = {}\n",
    "        for from_state, to_state, on_char in sorted(list(self.delta)):\n",
    "            if (from_state, to_state) in delta_compressed:\n",
    "                delta_compressed[from_state, to_state] += f', {on_char}'\n",
    "            else:\n",
    "                delta_compressed[from_state, to_state] = on_char\n",
    "        for (from_state, to_state), on_chars in delta_compressed.items():\n",
    "            dot.edge(from_state, to_state, label=on_chars)\n",
    "        if render:\n",
    "            dot.render(filename + '.gv')\n",
    "        if view:\n",
    "            dot.view()"
   ]
  },
  {
   "cell_type": "markdown",
   "metadata": {},
   "source": [
    "## Conversion methodology\n",
    "\n",
    "Okay, so we have the class for NFAs done. What now? How do we actually get an NFA from a regex (AST)?\n",
    "\n",
    "Basically, we divide the regex into building blocks based on type of expression and stick them together using $\\varepsilon$-transitions where necessary. We'll go through each of the operator/expression types in the following order:\n",
    "\n",
    " - Star\n",
    " - Union\n",
    " - Concatenation"
   ]
  },
  {
   "cell_type": "markdown",
   "metadata": {},
   "source": [
    "### Star\n",
    "\n",
    "Recall that `(exp)*` (or `Star(exp)` as our AST would represent it) means \"zero or more of `exp`\". We can represent this pretty well as an NFA (screenshots stolen from [Cornell's CS 4120 course notes](https://www.cs.cornell.edu/courses/cs4120/2023sp/notes.html?id=leximpl), which use $R$ to represent a given regular expression):\n",
    "\n",
    "![Star](2023-11-26-18-02-40.png)\n",
    "\n",
    "You can see here how the item can either be skipped or traversed as many times as necessary.\n",
    "\n",
    "### Union\n",
    "\n",
    "![Union](2023-11-26-18-03-11.png)\n",
    "\n",
    "Again, it should be clearly visible here how there is a choice between the two expressions.\n",
    "\n",
    "### Concat\n",
    "\n",
    "![Concat](2023-11-26-18-03-31.png)\n",
    "\n",
    "One expression is done, then the other.\n",
    "\n",
    "### Letter and empty string\n",
    "\n",
    "![Letter](2023-11-26-18-03-50.png)\n",
    "\n",
    "![Empty string](2023-11-26-18-04-01.png)\n",
    "\n",
    "These are simple enough. Next, we'll implement each of these."
   ]
  },
  {
   "cell_type": "markdown",
   "metadata": {},
   "source": [
    "## Implementation\n",
    "\n",
    "We'll start with a function to recursively go through the regex AST and call the relevant functions where necessary."
   ]
  },
  {
   "cell_type": "code",
   "execution_count": null,
   "metadata": {},
   "outputs": [],
   "source": [
    "def nfa_of_regex(regex : Regex, sigma : list) -> NFA:\n",
    "    def convert(r : Regex) -> NFA:\n",
    "        if type(r) == Union:\n",
    "            return union(convert(r.left), convert(r.right))\n",
    "        elif type(r) == Concat:\n",
    "            return concat(convert(r.left), convert(r.right))\n",
    "        elif type(r) == Star:\n",
    "            return star(convert(r.exp))\n",
    "        elif type(r) == Letter:\n",
    "            return letter(r.val, sigma)\n",
    "        else:\n",
    "            raise ValueError(f'Not sure what to do with this type: {type(r)}')\n",
    "    return convert(regex)"
   ]
  },
  {
   "cell_type": "markdown",
   "metadata": {},
   "source": [
    "Next, we need to implement each of the above types of expressions. In order to actually combine these together, though, we'll want to make sure we don't overlap in the names we use for states, otherwise we'll screw up completely."
   ]
  },
  {
   "cell_type": "code",
   "execution_count": null,
   "metadata": {},
   "outputs": [],
   "source": [
    "def generate_unused_name(forbidden : list, excluded=None) -> str:\n",
    "    if excluded is None:\n",
    "        excluded = set()\n",
    "    else:\n",
    "        excluded_states = set()\n",
    "        for other in excluded:\n",
    "            excluded_states |= other.states\n",
    "        excluded = excluded_states\n",
    "    forbidden = set(forbidden)\n",
    "    def generate_name(forbidden):\n",
    "        i = 0\n",
    "        while str(i) in forbidden:\n",
    "            i += 1\n",
    "        return str(i)\n",
    "    new_name = generate_name(forbidden | excluded)\n",
    "    return new_name\n",
    "\n",
    "def resolve_state_name_conflicts(x : NFA, y : NFA) -> NFA:\n",
    "    '''Returns a modified ver of y with no name conflicts with x'''\n",
    "    name_duplicates = x.states & y.states\n",
    "    y_modified = recreate(y)\n",
    "    for dupe in name_duplicates:\n",
    "        old_state = dupe\n",
    "        new_state = generate_unused_name([], excluded=[x, y_modified])\n",
    "        y_modified = rename_state(y_modified, old_state, new_state)\n",
    "    return y_modified"
   ]
  },
  {
   "cell_type": "markdown",
   "metadata": {},
   "source": [
    "Now we can merge two automata without worrying about state name conflicts:"
   ]
  },
  {
   "cell_type": "code",
   "execution_count": null,
   "metadata": {},
   "outputs": [],
   "source": [
    "def merge_automata(x : NFA, y : NFA) -> NFA:\n",
    "    return recreate(\n",
    "        x, \n",
    "        states=x.states | y.states,\n",
    "        sigma=x.sigma | y.sigma,\n",
    "        start=None,\n",
    "        finals=x.finals | y.finals,\n",
    "        delta=x.delta | y.delta\n",
    "    )"
   ]
  },
  {
   "cell_type": "markdown",
   "metadata": {},
   "source": [
    "### Star"
   ]
  },
  {
   "cell_type": "code",
   "execution_count": null,
   "metadata": {},
   "outputs": [],
   "source": [
    "def star(x : NFA) -> NFA:\n",
    "    if x.start is None:\n",
    "        return x\n",
    "    else:\n",
    "        if get_start_string(x) in x.finals:\n",
    "            start = get_start_string(x)\n",
    "            a = x\n",
    "        else:\n",
    "            new_start = generate_unused_name([], excluded=[x])\n",
    "            start = new_start\n",
    "            a = add_state(x, new_start, start=True, final=True)\n",
    "            a = add_transition(a, new_start, get_start_string(x), 'ε')\n",
    "        a_prime = recreate(a)\n",
    "        for final in x.finals:\n",
    "            a_prime = add_transition(a_prime, final, start, 'ε')\n",
    "            a_prime = add_transition(a_prime, start, final, 'ε')\n",
    "        return a_prime"
   ]
  },
  {
   "cell_type": "markdown",
   "metadata": {},
   "source": [
    "### Union"
   ]
  },
  {
   "cell_type": "code",
   "execution_count": null,
   "metadata": {},
   "outputs": [],
   "source": [
    "def union(x : NFA, y : NFA) -> NFA:\n",
    "    if x.start is None:\n",
    "        return y\n",
    "    elif y.start is None:\n",
    "        return x\n",
    "    else:\n",
    "        y_prime = resolve_state_name_conflicts(x, y)\n",
    "        xy = merge_automata(x, y_prime)\n",
    "        xy_start = generate_unused_name([], excluded=[xy])\n",
    "        out = add_state(xy, xy_start, start=True)\n",
    "        out = add_transition(out, xy_start, get_start_string(y_prime), 'ε')\n",
    "        out = add_transition(out, xy_start, get_start_string(x), 'ε')\n",
    "        return out"
   ]
  },
  {
   "cell_type": "markdown",
   "metadata": {},
   "source": [
    "### Concat"
   ]
  },
  {
   "cell_type": "code",
   "execution_count": null,
   "metadata": {},
   "outputs": [],
   "source": [
    "def concat(x : NFA, y : NFA) -> NFA:\n",
    "    if x.start is None or y.start is None:\n",
    "        return recreate(\n",
    "            x, states=set(), delta=set(),\n",
    "            sigma=x.sigma | y.sigma\n",
    "        )\n",
    "    else:\n",
    "        y_prime = resolve_state_name_conflicts(x, y)\n",
    "        unified = merge_automata(x, y_prime)\n",
    "        def fold_function(a : NFA, state : str) -> NFA:\n",
    "            out = add_transition(\n",
    "                a, state, get_start_string(y_prime), 'ε'\n",
    "            )\n",
    "            return make_unfinal(out, state)\n",
    "        out = make_start(unified, get_start_string(x))\n",
    "        for final in x.finals:\n",
    "            out = fold_function(out, final)\n",
    "        return out"
   ]
  },
  {
   "cell_type": "markdown",
   "metadata": {},
   "source": [
    "### Letters"
   ]
  },
  {
   "cell_type": "code",
   "execution_count": null,
   "metadata": {},
   "outputs": [],
   "source": [
    "def letter(c : str, sigma : list) -> NFA:\n",
    "    return NFA(\n",
    "        ['0', '1'],\n",
    "        [('0', '1', c)],\n",
    "        sigma,\n",
    "        '0',\n",
    "        ['1']\n",
    "    )"
   ]
  },
  {
   "cell_type": "markdown",
   "metadata": {},
   "source": [
    "And with that, we're done with this section. See you soon(ish)!"
   ]
  }
 ],
 "metadata": {
  "language_info": {
   "name": "python"
  }
 },
 "nbformat": 4,
 "nbformat_minor": 2
}
