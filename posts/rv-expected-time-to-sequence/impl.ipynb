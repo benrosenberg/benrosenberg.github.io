{
 "cells": [
  {
   "cell_type": "markdown",
   "metadata": {},
   "source": [
    "# Expected number of RV iterations until sequence seen"
   ]
  },
  {
   "cell_type": "markdown",
   "metadata": {},
   "source": [
    "**Given**: \n",
    "\n",
    " - An RV $X$ with $n$ finite discrete outputs $\\mathcal A = [a_1, \\dots, a_n]$ and associated probabilities $[\\mathbb P(a_1), \\dots, \\mathbb P(a_n)]$\n",
    " - A sequence $\\mathcal I = [i_1, \\dots, i_m]$ where $1\\leq i \\leq n \\; \\forall i\\in \\mathcal I$ of indices of outputs of $X$\n",
    "\n",
    "Example: RV $X$, a fair coin with $\\mathcal A = [H, T]$ and associated probabilities $[0.5, 0.5]$, and $\\mathcal I = [1, 2, 1]$ which corresponds to a sequence of $H, T, H$.\n",
    "\n",
    "**Desired**: Expected number of simulations of $X$ before seeing the sequence mapped to by $\\mathcal I$\n",
    "\n",
    "Example: Following from the above example, we would create a DTMC to model this scenario, get the corresponding matrix, and use a formula to determine the expected number of steps to the absorbing state from the start state.\n",
    "\n",
    "Here's the state machine:\n",
    "\n",
    "![](2023-12-23-13-47-09.png)\n",
    "\n",
    "And here's the DTMC:\n",
    "\n",
    "![](2023-12-23-14-42-47.png)\n",
    "\n",
    "The matrix which corresponds to this DTMC is as follows:\n",
    "\n",
    "![](2023-12-23-17-33-25.png)\n",
    "\n",
    "The numerical part of this matrix is of the form\n",
    "\n",
    "![](2023-12-23-17-33-38.png)\n",
    " \n",
    "which means that we can use the following formula to determine the expected number of steps from any state to the absorbing state:\n",
    "\n",
    "![](2023-12-23-17-33-54.png)\n",
    "\n",
    "Plugging into the formula gives:\n",
    "\n",
    "![](2023-12-23-17-34-06.png)\n",
    "\n",
    "We can use Octave to compute this easily:\n",
    "\n",
    "```octave\n",
    "([1,0,0;0,1,0;0,0,1] - [0.5,0.5,0;0,0.5,0.5;0.5,0,0])^-1 * [1;1;1]\n",
    "```\n",
    "\n",
    "which gives the following:\n",
    "\n",
    "```\n",
    "ans =\n",
    "   10\n",
    "    8\n",
    "    6\n",
    "```\n",
    "\n",
    "So the expected number of steps until we see the sequence $H,T,H$ from the starting state is 10.\n"
   ]
  },
  {
   "cell_type": "markdown",
   "metadata": {},
   "source": [
    "## Checking empirically\n",
    "\n",
    "Let's verify empirically that the expected number of steps above is correct."
   ]
  },
  {
   "cell_type": "code",
   "execution_count": 2,
   "metadata": {},
   "outputs": [
    {
     "name": "stdout",
     "output_type": "stream",
     "text": [
      "9.993549\n"
     ]
    }
   ],
   "source": [
    "import random\n",
    "\n",
    "def coin_flip():\n",
    "    if random.random() < 0.5:\n",
    "        return 'H'\n",
    "    return 'T'\n",
    "\n",
    "def expected_number_of_steps_until_seq(seq : str, trials : int, rv) -> float:\n",
    "    total_steps = 0\n",
    "    length = len(seq)\n",
    "    for _ in range(trials):\n",
    "        this_seq = ''\n",
    "        while this_seq[-length:] != seq:\n",
    "            this_seq += rv()\n",
    "            total_steps += 1\n",
    "    return total_steps/trials\n",
    "\n",
    "print(expected_number_of_steps_until_seq('HTH', 1_000_000, coin_flip))\n"
   ]
  },
  {
   "cell_type": "markdown",
   "metadata": {},
   "source": [
    "As expected, the average number of steps is 10."
   ]
  },
  {
   "cell_type": "markdown",
   "metadata": {},
   "source": [
    "## Automation/programming\n",
    "\n",
    "The hardest part of automating this calculation is the generation of the state machine, from which the matrix and relevant calculation follow easily. The creation of the state machine is typically a manual process, but if we are trying to do this generally for any sequence (without resorting to empirical means), we should experiment with alternative methods.\n",
    "\n",
    "One method for generating state machines programmatically is by converting a regular expression into a DFA, or deterministic finite automaton. In our use case, we want to have a regular expression for a string that contains our desired sequence. It's fine if it has the sequence multiple times. This may be counterintuitive because in our experiment we'll stop as soon as the sequence is seen, and so we might think not to accept the string if it contains the sequence more than once - but in fact, the DFA will accept the string as soon as it's seen, and after that it's effectively stopped computing.\n",
    "\n",
    "Here's what the DFA looks like for our above example:\n",
    "\n",
    "![](2023-12-23-14-41-11.png)\n",
    "\n",
    "The only difference from the first image is that the last state is marked as an accepting, or final, state as indicated by the double circle. \n",
    "\n",
    "The regular expression to which this DFA corresponds is as follows:\n",
    "\n",
    "```\n",
    "(H|T)*HTH(H|T)*\n",
    "```\n",
    "\n",
    "This can be translated as \"any number of H's and/or T's (the asterisk means \"zero or more\"), and somewhere in there is a sequence of HTH, and then any number of H's and/or T's again\". This is a simple regular expression to generate, so the only work left to do should be to just convert the generated regex to a DFA, and then use the DFA as a DTMC by assigning probabilities to the RV outputs along the edges of the automaton."
   ]
  },
  {
   "cell_type": "markdown",
   "metadata": {},
   "source": [
    "Luckily, there are existing implementations of this logic. In this instance we're using [PADS](https://ics.uci.edu/~eppstein/PADS/) from David Eppstein at U.C. Irvine."
   ]
  },
  {
   "cell_type": "code",
   "execution_count": 3,
   "metadata": {},
   "outputs": [
    {
     "name": "stdout",
     "output_type": "stream",
     "text": [
      "States:\n",
      "0 1 2 3\n",
      "Transitions:\n",
      "0 -> 1 | H\n",
      "0 -> 0 | T\n",
      "1 -> 1 | H\n",
      "1 -> 2 | T\n",
      "2 -> 3 | H\n",
      "2 -> 0 | T\n",
      "3 -> 3 | H\n",
      "3 -> 3 | T\n"
     ]
    }
   ],
   "source": [
    "from Automata import RegularLanguage\n",
    "\n",
    "L = RegularLanguage('(H+T)*HTH(H+T)*')\n",
    "\n",
    "dfa_L = L.recognizer.minimize().renumber()\n",
    "\n",
    "states = list(dfa_L.states())\n",
    "\n",
    "print('States:')\n",
    "print(*states)\n",
    "\n",
    "transitions = dfa_L.transitions()\n",
    "\n",
    "print('Transitions:')\n",
    "print('\\n'.join(str(t[0]) + ' -> ' + str(t[1]) + ' | ' + t[2] for t in transitions))\n",
    "\n",
    "dfa_L.to_dot('out')"
   ]
  },
  {
   "cell_type": "markdown",
   "metadata": {},
   "source": [
    "This correctly gives the following visualization:\n",
    "\n",
    "![](2023-12-23-16-42-33.png)"
   ]
  },
  {
   "cell_type": "markdown",
   "metadata": {},
   "source": [
    "Now we need some way to turn the DFA into a DTMC."
   ]
  },
  {
   "cell_type": "code",
   "execution_count": 4,
   "metadata": {},
   "outputs": [
    {
     "name": "stdout",
     "output_type": "stream",
     "text": [
      "0.5\t0.5\t0\t0\n",
      "0\t0.5\t0.5\t0\n",
      "0.5\t0\t0\t0.5\n",
      "0\t0\t0\t1.0\n"
     ]
    }
   ],
   "source": [
    "def dfa_to_dtmc(dfa_states, dfa_transitions, char_prob_map : dict):\n",
    "    matrix = [[0] * len(dfa_states) for _ in dfa_states]\n",
    "    for state in dfa_states:\n",
    "        for _,to_state,c in (t for t in dfa_transitions if t[0] == state):\n",
    "            matrix[state][to_state] += char_prob_map[c]\n",
    "    return matrix\n",
    "    \n",
    "matrix = dfa_to_dtmc(states, transitions, {'H' : 0.5, 'T' : 0.5})\n",
    "\n",
    "print('\\n'.join('\\t'.join(str(y) for y in x) for x in matrix))"
   ]
  },
  {
   "cell_type": "markdown",
   "metadata": {},
   "source": [
    "This matrix looks accurate. Let's continue by using Python to compute the result of the formula we had for the expected number of steps."
   ]
  },
  {
   "cell_type": "code",
   "execution_count": 5,
   "metadata": {},
   "outputs": [
    {
     "name": "stdout",
     "output_type": "stream",
     "text": [
      "Full results:\n",
      "[[10.]\n",
      " [ 8.]\n",
      " [ 6.]]\n",
      "Expected steps from start:\n",
      "10.0\n"
     ]
    }
   ],
   "source": [
    "import numpy as np\n",
    "\n",
    "np_matrix = np.matrix(matrix)\n",
    "\n",
    "Q = np_matrix[0:len(states)-1,0:len(states)-1]\n",
    "I = np.identity(len(states)-1)\n",
    "ones = np.ones_like(Q[:,0])\n",
    "\n",
    "output = (I - Q)**(-1) * ones\n",
    "\n",
    "print('Full results:')\n",
    "print(output)\n",
    "\n",
    "print('Expected steps from start:')\n",
    "print(float(output[0][0]))"
   ]
  },
  {
   "cell_type": "markdown",
   "metadata": {},
   "source": [
    "As expected, we have the same result as from our Octave code above. Now we can turn all of this into one big function to just return the expected number of steps."
   ]
  },
  {
   "cell_type": "markdown",
   "metadata": {},
   "source": [
    "## One big function/code cell"
   ]
  },
  {
   "cell_type": "code",
   "execution_count": 6,
   "metadata": {},
   "outputs": [
    {
     "name": "stdout",
     "output_type": "stream",
     "text": [
      "10.0\n"
     ]
    }
   ],
   "source": [
    "from Automata import RegularLanguage\n",
    "import numpy as np\n",
    "\n",
    "def exact_expected_number_of_steps(sequence : str, probabilities : dict):\n",
    "    '''Expected number of steps until `sequence` reached by RV defined by `probabilities`'''\n",
    "    assert set(sequence) <= set(probabilities.keys()), 'Sequence/prob dict mismatch'\n",
    "    assert abs(sum(probabilities.values()) - 1) < 0.000001, 'Sum of probabilities != 1'\n",
    "    outputs = probabilities.keys()\n",
    "    L = RegularLanguage('({})*{}({})*'.format('+'.join(outputs), sequence, '+'.join(outputs)))\n",
    "    dfa_L = L.recognizer.minimize().renumber()\n",
    "    states = list(dfa_L.states())\n",
    "    transitions = dfa_L.transitions()\n",
    "    matrix = [[0] * len(states) for _ in states]\n",
    "    for state in states:\n",
    "        for _,to_state,c in (t for t in transitions if t[0] == state):\n",
    "            matrix[state][to_state] += probabilities[c]\n",
    "    np_matrix = np.matrix(matrix)\n",
    "    Q = np_matrix[0:len(states)-1,0:len(states)-1]\n",
    "    I = np.identity(len(states)-1)\n",
    "    ones = np.ones_like(Q[:,0])\n",
    "    output = (I - Q)**(-1) * ones\n",
    "    return float(output[0][0])\n",
    "\n",
    "result = exact_expected_number_of_steps('HTH', {'H' : 0.5, 'T' : 0.5})\n",
    "print(result)"
   ]
  },
  {
   "cell_type": "markdown",
   "metadata": {},
   "source": [
    "And that's it!"
   ]
  }
 ],
 "metadata": {
  "kernelspec": {
   "display_name": "Python 3",
   "language": "python",
   "name": "python3"
  },
  "language_info": {
   "codemirror_mode": {
    "name": "ipython",
    "version": 3
   },
   "file_extension": ".py",
   "mimetype": "text/x-python",
   "name": "python",
   "nbconvert_exporter": "python",
   "pygments_lexer": "ipython3",
   "version": "3.9.1"
  }
 },
 "nbformat": 4,
 "nbformat_minor": 2
}
