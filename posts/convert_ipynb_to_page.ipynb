{
 "cells": [
  {
   "cell_type": "markdown",
   "metadata": {},
   "source": [
    "# How to convert a Jupyter Notebook to a page on this site"
   ]
  },
  {
   "cell_type": "code",
   "execution_count": 13,
   "metadata": {},
   "outputs": [],
   "source": [
    "import time\n",
    "from conv_modularized import convert"
   ]
  },
  {
   "cell_type": "markdown",
   "metadata": {},
   "source": [
    "This notebook contains the steps to convert an IPython notebook (similar to this one) to an HTML file suitable for use on this site."
   ]
  },
  {
   "cell_type": "markdown",
   "metadata": {},
   "source": [
    "Start by putting in an input filename and title. Might want to leave the output filename as is though, as changing it to `index.html` could mean overwriting the `index.html` file in this directory."
   ]
  },
  {
   "cell_type": "code",
   "execution_count": 16,
   "metadata": {},
   "outputs": [],
   "source": [
    "IN_FILENAME = 'convert_ipynb_to_page.ipynb'\n",
    "OUT_FILENAME = 'generated_{}.html'.format(time.time())\n",
    "TITLE = 'Converting a IPYNB file to a page on this site'\n",
    "\n",
    "TEMPLATE_FILENAME = 'converted_ipynb_template.html'"
   ]
  },
  {
   "cell_type": "markdown",
   "metadata": {},
   "source": [
    "Now we can run the converter script and wrap the results in the required header and footer."
   ]
  },
  {
   "cell_type": "code",
   "execution_count": 17,
   "metadata": {},
   "outputs": [],
   "source": [
    "out_contents = convert(IN_FILENAME, standalone=False)\n",
    "\n",
    "with open(TEMPLATE_FILENAME, 'r') as f:\n",
    "    template_contents = f.read()\n",
    "\n",
    "with open(OUT_FILENAME, 'w') as f:\n",
    "    # 'IPYNB-CONTENT-GOES-HERE' is not a placeholder to fill in, it's a marker in the HTML template\n",
    "    f.write(\n",
    "        template_contents\n",
    "            .replace('IPYNB-CONTENT-GOES-HERE', out_contents)\n",
    "            .replace('TITLE-GOES-HERE', TITLE)\n",
    "    )"
   ]
  },
  {
   "cell_type": "markdown",
   "metadata": {},
   "source": [
    "At this point we can check the output file with a browser and make sure it looks good.\n",
    "\n",
    "From here the next steps are to:\n",
    "\n",
    " - Create a subdirectory within `/posts/` (e.g., `/posts/mynewpost/`)\n",
    " - Move the generated output file to this newly created directory\n",
    " - Rename this file to `index.html`\n",
    " - Create a link to this new `index.html` file in the `/posts/index.html` file so that it is accessible"
   ]
  }
 ],
 "metadata": {
  "kernelspec": {
   "display_name": "Python 3",
   "language": "python",
   "name": "python3"
  },
  "language_info": {
   "codemirror_mode": {
    "name": "ipython",
    "version": 3
   },
   "file_extension": ".py",
   "mimetype": "text/x-python",
   "name": "python",
   "nbconvert_exporter": "python",
   "pygments_lexer": "ipython3",
   "version": "3.9.1"
  },
  "orig_nbformat": 4
 },
 "nbformat": 4,
 "nbformat_minor": 2
}
